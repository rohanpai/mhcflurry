{
 "cells": [
  {
   "cell_type": "code",
   "execution_count": 1,
   "metadata": {},
   "outputs": [
    {
     "name": "stderr",
     "output_type": "stream",
     "text": [
      "Using TensorFlow backend.\n"
     ]
    }
   ],
   "source": [
    "from mhcflurry import Class1AffinityPredictor\n",
    "from json import loads, dumps\n",
    "import pandas"
   ]
  },
  {
   "cell_type": "code",
   "execution_count": 2,
   "metadata": {
    "collapsed": true
   },
   "outputs": [],
   "source": [
    "alleles_of_interest = ['HLA-A*01:01', 'HLA-A*02:01', 'HLA-A*02:03', 'HLA-A*03:01', 'HLA-A*11:01', 'HLA-A*24:02', 'HLA-A*29:02', 'HLA-A*31:01', 'HLA-A*68:02', 'HLA-B*07:02', 'HLA-B*15:01', 'HLA-B*35:01', 'HLA-B*44:02', 'HLA-B*44:03', 'HLA-B*51:01', 'HLA-B*54:01', 'HLA-B*57:01']\n",
    "model_of_interest = \"KGX7QIJXWU\""
   ]
  },
  {
   "cell_type": "code",
   "execution_count": 3,
   "metadata": {
    "collapsed": true
   },
   "outputs": [],
   "source": [
    "best_trained_model = Class1AffinityPredictor.load()\n",
    "just_trained_model = Class1AffinityPredictor.load('./'+model_of_interest)"
   ]
  },
  {
   "cell_type": "code",
   "execution_count": 4,
   "metadata": {
    "collapsed": true
   },
   "outputs": [],
   "source": [
    "df = just_trained_model.manifest_df.copy()\n",
    "df[\"config\"] = df.config_json.map(loads)\n",
    "#df.config.iloc[0]"
   ]
  },
  {
   "cell_type": "code",
   "execution_count": 5,
   "metadata": {
    "collapsed": true
   },
   "outputs": [],
   "source": [
    "d = dict((v, i) for (i, v) in enumerate(sorted(set([\n",
    "    dumps(v['hyperparameters']) for v in df.config\n",
    "          ]))))"
   ]
  },
  {
   "cell_type": "code",
   "execution_count": 6,
   "metadata": {
    "collapsed": true
   },
   "outputs": [],
   "source": [
    "df[\"architecture_num\"] = df.config.map(lambda v: d[dumps(v['hyperparameters'])])"
   ]
  },
  {
   "cell_type": "code",
   "execution_count": 7,
   "metadata": {},
   "outputs": [
    {
     "data": {
      "text/plain": [
       "0    17\n",
       "Name: architecture_num, dtype: int64"
      ]
     },
     "execution_count": 7,
     "metadata": {},
     "output_type": "execute_result"
    }
   ],
   "source": [
    "df.architecture_num.value_counts()"
   ]
  },
  {
   "cell_type": "code",
   "execution_count": 12,
   "metadata": {
    "collapsed": true
   },
   "outputs": [],
   "source": [
    "def ppv(is_hit, predictions):\n",
    "    df = pandas.DataFrame({\"prediction\": predictions, \"is_hit\": is_hit})\n",
    "    return df.sort_values(\"prediction\", ascending=True)[:int(is_hit.sum())].is_hit.mean()    "
   ]
  },
  {
   "cell_type": "code",
   "execution_count": 9,
   "metadata": {
    "collapsed": true
   },
   "outputs": [],
   "source": [
    "mass_spec_df = pandas.read_csv(\"abelin_peptides.mhcflurry.csv.bz2\")\n",
    "model_df = pandas.read_csv(\"KGX7QIJXWU-out.csv\")"
   ]
  },
  {
   "cell_type": "code",
   "execution_count": 10,
   "metadata": {},
   "outputs": [
    {
     "name": "stdout",
     "output_type": "stream",
     "text": [
      "2566814\n",
      "2566814\n",
      "2065551\n",
      "2065551\n"
     ]
    }
   ],
   "source": [
    "print(len(mass_spec_df))\n",
    "print(len(model_df))\n",
    "\n",
    "mass_spec_df = mass_spec_df[mass_spec_df.allele.isin(alleles_of_interest)]\n",
    "model_df = model_df[model_df.allele.isin(alleles_of_interest)]\n",
    "print(len(mass_spec_df))\n",
    "print(len(model_df))"
   ]
  },
  {
   "cell_type": "code",
   "execution_count": 13,
   "metadata": {},
   "outputs": [
    {
     "name": "stdout",
     "output_type": "stream",
     "text": [
      "0.6295046696983032\n",
      "0.5343992958779522\n"
     ]
    }
   ],
   "source": [
    "print(ppv(mass_spec_df.hit.values, mass_spec_df.mhcflurry.values))\n",
    "print(ppv(model_df.hit.values, model_df.KGX7QIJXWUprediction))"
   ]
  },
  {
   "cell_type": "code",
   "execution_count": 38,
   "metadata": {},
   "outputs": [
    {
     "name": "stdout",
     "output_type": "stream",
     "text": [
      "allele\n",
      "HLA-A*01:01     (0.8068635275339185, 126553)\n",
      "HLA-A*02:01     (0.6554878048780488, 265024)\n",
      "HLA-A*02:03     (0.6513911620294599, 185133)\n",
      "HLA-A*03:01     (0.5925480769230769, 168064)\n",
      "HLA-A*24:02     (0.7303167420814479, 223210)\n",
      "HLA-A*29:02       (0.700228832951945, 88274)\n",
      "HLA-A*31:01     (0.4926829268292683, 124230)\n",
      "HLA-A*68:02    (0.48012078510317063, 200687)\n",
      "HLA-B*35:01      (0.5825892857142857, 90496)\n",
      "HLA-B*44:02     (0.6961789375582479, 108373)\n",
      "HLA-B*44:03      (0.7393209200438116, 92213)\n",
      "HLA-B*51:01     (0.6438645980253879, 143218)\n",
      "HLA-B*54:01     (0.6254125412541254, 122412)\n",
      "HLA-B*57:01     (0.6147151898734177, 127664)\n",
      "dtype: object\n",
      "allele\n",
      "HLA-A*01:01    (0.8260175578611333, 126553)\n",
      "HLA-A*02:01    (0.6745426829268293, 265024)\n",
      "HLA-A*02:03    (0.7364975450081833, 185133)\n",
      "HLA-A*03:01    (0.6009615384615384, 168064)\n",
      "HLA-A*24:02    (0.7760180995475113, 223210)\n",
      "HLA-A*29:02     (0.7139588100686499, 88274)\n",
      "HLA-A*31:01    (0.4983739837398374, 124230)\n",
      "HLA-A*68:02    (0.5067941620533467, 200687)\n",
      "HLA-B*35:01     (0.6517857142857143, 90496)\n",
      "HLA-B*44:02    (0.7493010251630942, 108373)\n",
      "HLA-B*44:03     (0.7820372398685652, 92213)\n",
      "HLA-B*51:01    (0.6706629055007052, 143218)\n",
      "HLA-B*54:01     (0.641914191419142, 122412)\n",
      "HLA-B*57:01    (0.6582278481012658, 127664)\n",
      "dtype: object\n"
     ]
    }
   ],
   "source": [
    "model_groups = model_df.groupby('allele')\n",
    "mass_spec_groups = mass_spec_df.groupby('allele')\n",
    "mass_spec_ppv = mass_spec_groups.apply(lambda mini_df: (ppv(mini_df.hit.values, mini_df.mhcflurry.values), len(mini_df) ) )\n",
    "model_ppv = model_groups.apply(lambda mini_df: ( ppv(mini_df.hit.values, mini_df.KGX7QIJXWUprediction), len(mini_df) ) )\n",
    "print(model_ppv)\n",
    "print(mass_spec_ppv)"
   ]
  },
  {
   "cell_type": "code",
   "execution_count": 30,
   "metadata": {},
   "outputs": [
    {
     "name": "stdout",
     "output_type": "stream",
     "text": [
      "<pandas.core.groupby.DataFrameGroupBy object at 0x11bed2518>\n",
      "   0         1\n",
      "0             \n",
      "A  2  0.285714\n",
      "B  1  0.142857\n",
      "C  1  0.142857\n",
      "D  2  0.285714\n",
      "E  1  0.142857\n"
     ]
    }
   ],
   "source": [
    "import numpy as np\n",
    "g = pandas.DataFrame(['A','B','A','C','D','D','E'])\n",
    "gg = g.groupby(0)\n",
    "print(gg)\n",
    "histo = gg.apply(lambda x: x.count())\n",
    "histo[1] = histo.astype(np.float)/len(g) \n",
    "print(histo)\n"
   ]
  },
  {
   "cell_type": "code",
   "execution_count": 28,
   "metadata": {},
   "outputs": [
    {
     "name": "stdout",
     "output_type": "stream",
     "text": [
      "{'n_models': 8, 'max_epochs': 500, 'patience': 10, 'early_stopping': True, 'validation_split': 0.2, 'random_negative_rate': 0.0, 'random_negative_constant': 25, 'use_embedding': False, 'kmer_size': 15, 'batch_normalization': False, 'locally_connected_layers': [{'filters': 8, 'activation': 'tanh', 'kernel_size': 3}, {'filters': 8, 'activation': 'tanh', 'kernel_size': 3}], 'activation': 'relu', 'output_activation': 'sigmoid', 'layer_sizes': [32], 'random_negative_affinity_min': 20000.0, 'random_negative_affinity_max': 50000.0, 'dense_layer_l1_regularization': 0.001, 'dropout_probability': 0.0}\n",
      "[{'n_models': 8, 'max_epochs': 500, 'patience': 10, 'early_stopping': True, 'validation_split': 0.2, 'random_negative_rate': 0.0, 'random_negative_constant': 0, 'use_embedding': False, 'kmer_size': 15, 'batch_normalization': False, 'locally_connected_layers': [{'filters': 8, 'activation': 'tanh', 'kernel_size': 3}], 'activation': 'relu', 'output_activation': 'sigmoid', 'layer_sizes': [16], 'random_negative_affinity_min': 20000.0, 'random_negative_affinity_max': 50000.0, 'dense_layer_l1_regularization': 0, 'dropout_probability': 0.0}, {'n_models': 8, 'max_epochs': 500, 'patience': 10, 'early_stopping': True, 'validation_split': 0.2, 'random_negative_rate': 0.0, 'random_negative_constant': 0, 'use_embedding': False, 'kmer_size': 15, 'batch_normalization': False, 'locally_connected_layers': [{'filters': 8, 'activation': 'tanh', 'kernel_size': 3}], 'activation': 'relu', 'output_activation': 'sigmoid', 'layer_sizes': [16], 'random_negative_affinity_min': 20000.0, 'random_negative_affinity_max': 50000.0, 'dense_layer_l1_regularization': 0.001, 'dropout_probability': 0.0}, {'n_models': 8, 'max_epochs': 500, 'patience': 10, 'early_stopping': True, 'validation_split': 0.2, 'random_negative_rate': 0.0, 'random_negative_constant': 0, 'use_embedding': False, 'kmer_size': 15, 'batch_normalization': False, 'locally_connected_layers': [{'filters': 8, 'activation': 'tanh', 'kernel_size': 3}], 'activation': 'relu', 'output_activation': 'sigmoid', 'layer_sizes': [16], 'random_negative_affinity_min': 20000.0, 'random_negative_affinity_max': 50000.0, 'dense_layer_l1_regularization': 0.01, 'dropout_probability': 0.0}, {'n_models': 8, 'max_epochs': 500, 'patience': 10, 'early_stopping': True, 'validation_split': 0.2, 'random_negative_rate': 0.0, 'random_negative_constant': 0, 'use_embedding': False, 'kmer_size': 15, 'batch_normalization': False, 'locally_connected_layers': [{'filters': 8, 'activation': 'tanh', 'kernel_size': 3}], 'activation': 'relu', 'output_activation': 'sigmoid', 'layer_sizes': [32], 'random_negative_affinity_min': 20000.0, 'random_negative_affinity_max': 50000.0, 'dense_layer_l1_regularization': 0, 'dropout_probability': 0.0}, {'n_models': 8, 'max_epochs': 500, 'patience': 10, 'early_stopping': True, 'validation_split': 0.2, 'random_negative_rate': 0.0, 'random_negative_constant': 0, 'use_embedding': False, 'kmer_size': 15, 'batch_normalization': False, 'locally_connected_layers': [{'filters': 8, 'activation': 'tanh', 'kernel_size': 3}], 'activation': 'relu', 'output_activation': 'sigmoid', 'layer_sizes': [32], 'random_negative_affinity_min': 20000.0, 'random_negative_affinity_max': 50000.0, 'dense_layer_l1_regularization': 0.001, 'dropout_probability': 0.0}, {'n_models': 8, 'max_epochs': 500, 'patience': 10, 'early_stopping': True, 'validation_split': 0.2, 'random_negative_rate': 0.0, 'random_negative_constant': 0, 'use_embedding': False, 'kmer_size': 15, 'batch_normalization': False, 'locally_connected_layers': [{'filters': 8, 'activation': 'tanh', 'kernel_size': 3}], 'activation': 'relu', 'output_activation': 'sigmoid', 'layer_sizes': [32], 'random_negative_affinity_min': 20000.0, 'random_negative_affinity_max': 50000.0, 'dense_layer_l1_regularization': 0.01, 'dropout_probability': 0.0}, {'n_models': 8, 'max_epochs': 500, 'patience': 10, 'early_stopping': True, 'validation_split': 0.2, 'random_negative_rate': 0.0, 'random_negative_constant': 0, 'use_embedding': False, 'kmer_size': 15, 'batch_normalization': False, 'locally_connected_layers': [{'filters': 8, 'activation': 'tanh', 'kernel_size': 3}], 'activation': 'relu', 'output_activation': 'sigmoid', 'layer_sizes': [64], 'random_negative_affinity_min': 20000.0, 'random_negative_affinity_max': 50000.0, 'dense_layer_l1_regularization': 0, 'dropout_probability': 0.0}, {'n_models': 8, 'max_epochs': 500, 'patience': 10, 'early_stopping': True, 'validation_split': 0.2, 'random_negative_rate': 0.0, 'random_negative_constant': 0, 'use_embedding': False, 'kmer_size': 15, 'batch_normalization': False, 'locally_connected_layers': [{'filters': 8, 'activation': 'tanh', 'kernel_size': 3}], 'activation': 'relu', 'output_activation': 'sigmoid', 'layer_sizes': [64], 'random_negative_affinity_min': 20000.0, 'random_negative_affinity_max': 50000.0, 'dense_layer_l1_regularization': 0.001, 'dropout_probability': 0.0}, {'n_models': 8, 'max_epochs': 500, 'patience': 10, 'early_stopping': True, 'validation_split': 0.2, 'random_negative_rate': 0.0, 'random_negative_constant': 0, 'use_embedding': False, 'kmer_size': 15, 'batch_normalization': False, 'locally_connected_layers': [{'filters': 8, 'activation': 'tanh', 'kernel_size': 3}], 'activation': 'relu', 'output_activation': 'sigmoid', 'layer_sizes': [64], 'random_negative_affinity_min': 20000.0, 'random_negative_affinity_max': 50000.0, 'dense_layer_l1_regularization': 0.01, 'dropout_probability': 0.0}, {'n_models': 8, 'max_epochs': 500, 'patience': 10, 'early_stopping': True, 'validation_split': 0.2, 'random_negative_rate': 0.0, 'random_negative_constant': 0, 'use_embedding': False, 'kmer_size': 15, 'batch_normalization': False, 'locally_connected_layers': [{'filters': 8, 'activation': 'tanh', 'kernel_size': 3}, {'filters': 8, 'activation': 'tanh', 'kernel_size': 3}], 'activation': 'relu', 'output_activation': 'sigmoid', 'layer_sizes': [16], 'random_negative_affinity_min': 20000.0, 'random_negative_affinity_max': 50000.0, 'dense_layer_l1_regularization': 0, 'dropout_probability': 0.0}, {'n_models': 8, 'max_epochs': 500, 'patience': 10, 'early_stopping': True, 'validation_split': 0.2, 'random_negative_rate': 0.0, 'random_negative_constant': 0, 'use_embedding': False, 'kmer_size': 15, 'batch_normalization': False, 'locally_connected_layers': [{'filters': 8, 'activation': 'tanh', 'kernel_size': 3}, {'filters': 8, 'activation': 'tanh', 'kernel_size': 3}], 'activation': 'relu', 'output_activation': 'sigmoid', 'layer_sizes': [16], 'random_negative_affinity_min': 20000.0, 'random_negative_affinity_max': 50000.0, 'dense_layer_l1_regularization': 0.001, 'dropout_probability': 0.0}, {'n_models': 8, 'max_epochs': 500, 'patience': 10, 'early_stopping': True, 'validation_split': 0.2, 'random_negative_rate': 0.0, 'random_negative_constant': 0, 'use_embedding': False, 'kmer_size': 15, 'batch_normalization': False, 'locally_connected_layers': [{'filters': 8, 'activation': 'tanh', 'kernel_size': 3}, {'filters': 8, 'activation': 'tanh', 'kernel_size': 3}], 'activation': 'relu', 'output_activation': 'sigmoid', 'layer_sizes': [16], 'random_negative_affinity_min': 20000.0, 'random_negative_affinity_max': 50000.0, 'dense_layer_l1_regularization': 0.01, 'dropout_probability': 0.0}, {'n_models': 8, 'max_epochs': 500, 'patience': 10, 'early_stopping': True, 'validation_split': 0.2, 'random_negative_rate': 0.0, 'random_negative_constant': 0, 'use_embedding': False, 'kmer_size': 15, 'batch_normalization': False, 'locally_connected_layers': [{'filters': 8, 'activation': 'tanh', 'kernel_size': 3}, {'filters': 8, 'activation': 'tanh', 'kernel_size': 3}], 'activation': 'relu', 'output_activation': 'sigmoid', 'layer_sizes': [32], 'random_negative_affinity_min': 20000.0, 'random_negative_affinity_max': 50000.0, 'dense_layer_l1_regularization': 0, 'dropout_probability': 0.0}, {'n_models': 8, 'max_epochs': 500, 'patience': 10, 'early_stopping': True, 'validation_split': 0.2, 'random_negative_rate': 0.0, 'random_negative_constant': 0, 'use_embedding': False, 'kmer_size': 15, 'batch_normalization': False, 'locally_connected_layers': [{'filters': 8, 'activation': 'tanh', 'kernel_size': 3}, {'filters': 8, 'activation': 'tanh', 'kernel_size': 3}], 'activation': 'relu', 'output_activation': 'sigmoid', 'layer_sizes': [32], 'random_negative_affinity_min': 20000.0, 'random_negative_affinity_max': 50000.0, 'dense_layer_l1_regularization': 0.001, 'dropout_probability': 0.0}, {'n_models': 8, 'max_epochs': 500, 'patience': 10, 'early_stopping': True, 'validation_split': 0.2, 'random_negative_rate': 0.0, 'random_negative_constant': 0, 'use_embedding': False, 'kmer_size': 15, 'batch_normalization': False, 'locally_connected_layers': [{'filters': 8, 'activation': 'tanh', 'kernel_size': 3}, {'filters': 8, 'activation': 'tanh', 'kernel_size': 3}], 'activation': 'relu', 'output_activation': 'sigmoid', 'layer_sizes': [32], 'random_negative_affinity_min': 20000.0, 'random_negative_affinity_max': 50000.0, 'dense_layer_l1_regularization': 0.01, 'dropout_probability': 0.0}, {'n_models': 8, 'max_epochs': 500, 'patience': 10, 'early_stopping': True, 'validation_split': 0.2, 'random_negative_rate': 0.0, 'random_negative_constant': 0, 'use_embedding': False, 'kmer_size': 15, 'batch_normalization': False, 'locally_connected_layers': [{'filters': 8, 'activation': 'tanh', 'kernel_size': 3}, {'filters': 8, 'activation': 'tanh', 'kernel_size': 3}], 'activation': 'relu', 'output_activation': 'sigmoid', 'layer_sizes': [64], 'random_negative_affinity_min': 20000.0, 'random_negative_affinity_max': 50000.0, 'dense_layer_l1_regularization': 0, 'dropout_probability': 0.0}, {'n_models': 8, 'max_epochs': 500, 'patience': 10, 'early_stopping': True, 'validation_split': 0.2, 'random_negative_rate': 0.0, 'random_negative_constant': 0, 'use_embedding': False, 'kmer_size': 15, 'batch_normalization': False, 'locally_connected_layers': [{'filters': 8, 'activation': 'tanh', 'kernel_size': 3}, {'filters': 8, 'activation': 'tanh', 'kernel_size': 3}], 'activation': 'relu', 'output_activation': 'sigmoid', 'layer_sizes': [64], 'random_negative_affinity_min': 20000.0, 'random_negative_affinity_max': 50000.0, 'dense_layer_l1_regularization': 0.001, 'dropout_probability': 0.0}, {'n_models': 8, 'max_epochs': 500, 'patience': 10, 'early_stopping': True, 'validation_split': 0.2, 'random_negative_rate': 0.0, 'random_negative_constant': 0, 'use_embedding': False, 'kmer_size': 15, 'batch_normalization': False, 'locally_connected_layers': [{'filters': 8, 'activation': 'tanh', 'kernel_size': 3}, {'filters': 8, 'activation': 'tanh', 'kernel_size': 3}], 'activation': 'relu', 'output_activation': 'sigmoid', 'layer_sizes': [64], 'random_negative_affinity_min': 20000.0, 'random_negative_affinity_max': 50000.0, 'dense_layer_l1_regularization': 0.01, 'dropout_probability': 0.0}, {'n_models': 8, 'max_epochs': 500, 'patience': 10, 'early_stopping': True, 'validation_split': 0.2, 'random_negative_rate': 0.0, 'random_negative_constant': 0, 'use_embedding': False, 'kmer_size': 15, 'batch_normalization': False, 'locally_connected_layers': [], 'activation': 'relu', 'output_activation': 'sigmoid', 'layer_sizes': [16], 'random_negative_affinity_min': 20000.0, 'random_negative_affinity_max': 50000.0, 'dense_layer_l1_regularization': 0, 'dropout_probability': 0.0}, {'n_models': 8, 'max_epochs': 500, 'patience': 10, 'early_stopping': True, 'validation_split': 0.2, 'random_negative_rate': 0.0, 'random_negative_constant': 0, 'use_embedding': False, 'kmer_size': 15, 'batch_normalization': False, 'locally_connected_layers': [], 'activation': 'relu', 'output_activation': 'sigmoid', 'layer_sizes': [16], 'random_negative_affinity_min': 20000.0, 'random_negative_affinity_max': 50000.0, 'dense_layer_l1_regularization': 0.001, 'dropout_probability': 0.0}, {'n_models': 8, 'max_epochs': 500, 'patience': 10, 'early_stopping': True, 'validation_split': 0.2, 'random_negative_rate': 0.0, 'random_negative_constant': 0, 'use_embedding': False, 'kmer_size': 15, 'batch_normalization': False, 'locally_connected_layers': [], 'activation': 'relu', 'output_activation': 'sigmoid', 'layer_sizes': [16], 'random_negative_affinity_min': 20000.0, 'random_negative_affinity_max': 50000.0, 'dense_layer_l1_regularization': 0.01, 'dropout_probability': 0.0}, {'n_models': 8, 'max_epochs': 500, 'patience': 10, 'early_stopping': True, 'validation_split': 0.2, 'random_negative_rate': 0.0, 'random_negative_constant': 0, 'use_embedding': False, 'kmer_size': 15, 'batch_normalization': False, 'locally_connected_layers': [], 'activation': 'relu', 'output_activation': 'sigmoid', 'layer_sizes': [32], 'random_negative_affinity_min': 20000.0, 'random_negative_affinity_max': 50000.0, 'dense_layer_l1_regularization': 0, 'dropout_probability': 0.0}, {'n_models': 8, 'max_epochs': 500, 'patience': 10, 'early_stopping': True, 'validation_split': 0.2, 'random_negative_rate': 0.0, 'random_negative_constant': 0, 'use_embedding': False, 'kmer_size': 15, 'batch_normalization': False, 'locally_connected_layers': [], 'activation': 'relu', 'output_activation': 'sigmoid', 'layer_sizes': [32], 'random_negative_affinity_min': 20000.0, 'random_negative_affinity_max': 50000.0, 'dense_layer_l1_regularization': 0.001, 'dropout_probability': 0.0}, {'n_models': 8, 'max_epochs': 500, 'patience': 10, 'early_stopping': True, 'validation_split': 0.2, 'random_negative_rate': 0.0, 'random_negative_constant': 0, 'use_embedding': False, 'kmer_size': 15, 'batch_normalization': False, 'locally_connected_layers': [], 'activation': 'relu', 'output_activation': 'sigmoid', 'layer_sizes': [32], 'random_negative_affinity_min': 20000.0, 'random_negative_affinity_max': 50000.0, 'dense_layer_l1_regularization': 0.01, 'dropout_probability': 0.0}, {'n_models': 8, 'max_epochs': 500, 'patience': 10, 'early_stopping': True, 'validation_split': 0.2, 'random_negative_rate': 0.0, 'random_negative_constant': 0, 'use_embedding': False, 'kmer_size': 15, 'batch_normalization': False, 'locally_connected_layers': [], 'activation': 'relu', 'output_activation': 'sigmoid', 'layer_sizes': [64], 'random_negative_affinity_min': 20000.0, 'random_negative_affinity_max': 50000.0, 'dense_layer_l1_regularization': 0, 'dropout_probability': 0.0}, {'n_models': 8, 'max_epochs': 500, 'patience': 10, 'early_stopping': True, 'validation_split': 0.2, 'random_negative_rate': 0.0, 'random_negative_constant': 0, 'use_embedding': False, 'kmer_size': 15, 'batch_normalization': False, 'locally_connected_layers': [], 'activation': 'relu', 'output_activation': 'sigmoid', 'layer_sizes': [64], 'random_negative_affinity_min': 20000.0, 'random_negative_affinity_max': 50000.0, 'dense_layer_l1_regularization': 0.001, 'dropout_probability': 0.0}, {'n_models': 8, 'max_epochs': 500, 'patience': 10, 'early_stopping': True, 'validation_split': 0.2, 'random_negative_rate': 0.0, 'random_negative_constant': 0, 'use_embedding': False, 'kmer_size': 15, 'batch_normalization': False, 'locally_connected_layers': [], 'activation': 'relu', 'output_activation': 'sigmoid', 'layer_sizes': [64], 'random_negative_affinity_min': 20000.0, 'random_negative_affinity_max': 50000.0, 'dense_layer_l1_regularization': 0.01, 'dropout_probability': 0.0}, {'n_models': 8, 'max_epochs': 500, 'patience': 10, 'early_stopping': True, 'validation_split': 0.2, 'random_negative_rate': 0.0, 'random_negative_constant': 20, 'use_embedding': False, 'kmer_size': 15, 'batch_normalization': False, 'locally_connected_layers': [{'filters': 8, 'activation': 'tanh', 'kernel_size': 3}], 'activation': 'relu', 'output_activation': 'sigmoid', 'layer_sizes': [16], 'random_negative_affinity_min': 20000.0, 'random_negative_affinity_max': 50000.0, 'dense_layer_l1_regularization': 0, 'dropout_probability': 0.0}, {'n_models': 8, 'max_epochs': 500, 'patience': 10, 'early_stopping': True, 'validation_split': 0.2, 'random_negative_rate': 0.0, 'random_negative_constant': 20, 'use_embedding': False, 'kmer_size': 15, 'batch_normalization': False, 'locally_connected_layers': [{'filters': 8, 'activation': 'tanh', 'kernel_size': 3}], 'activation': 'relu', 'output_activation': 'sigmoid', 'layer_sizes': [16], 'random_negative_affinity_min': 20000.0, 'random_negative_affinity_max': 50000.0, 'dense_layer_l1_regularization': 0.001, 'dropout_probability': 0.0}, {'n_models': 8, 'max_epochs': 500, 'patience': 10, 'early_stopping': True, 'validation_split': 0.2, 'random_negative_rate': 0.0, 'random_negative_constant': 20, 'use_embedding': False, 'kmer_size': 15, 'batch_normalization': False, 'locally_connected_layers': [{'filters': 8, 'activation': 'tanh', 'kernel_size': 3}], 'activation': 'relu', 'output_activation': 'sigmoid', 'layer_sizes': [16], 'random_negative_affinity_min': 20000.0, 'random_negative_affinity_max': 50000.0, 'dense_layer_l1_regularization': 0.01, 'dropout_probability': 0.0}, {'n_models': 8, 'max_epochs': 500, 'patience': 10, 'early_stopping': True, 'validation_split': 0.2, 'random_negative_rate': 0.0, 'random_negative_constant': 20, 'use_embedding': False, 'kmer_size': 15, 'batch_normalization': False, 'locally_connected_layers': [{'filters': 8, 'activation': 'tanh', 'kernel_size': 3}], 'activation': 'relu', 'output_activation': 'sigmoid', 'layer_sizes': [32], 'random_negative_affinity_min': 20000.0, 'random_negative_affinity_max': 50000.0, 'dense_layer_l1_regularization': 0, 'dropout_probability': 0.0}, {'n_models': 8, 'max_epochs': 500, 'patience': 10, 'early_stopping': True, 'validation_split': 0.2, 'random_negative_rate': 0.0, 'random_negative_constant': 20, 'use_embedding': False, 'kmer_size': 15, 'batch_normalization': False, 'locally_connected_layers': [{'filters': 8, 'activation': 'tanh', 'kernel_size': 3}], 'activation': 'relu', 'output_activation': 'sigmoid', 'layer_sizes': [32], 'random_negative_affinity_min': 20000.0, 'random_negative_affinity_max': 50000.0, 'dense_layer_l1_regularization': 0.001, 'dropout_probability': 0.0}, {'n_models': 8, 'max_epochs': 500, 'patience': 10, 'early_stopping': True, 'validation_split': 0.2, 'random_negative_rate': 0.0, 'random_negative_constant': 20, 'use_embedding': False, 'kmer_size': 15, 'batch_normalization': False, 'locally_connected_layers': [{'filters': 8, 'activation': 'tanh', 'kernel_size': 3}], 'activation': 'relu', 'output_activation': 'sigmoid', 'layer_sizes': [32], 'random_negative_affinity_min': 20000.0, 'random_negative_affinity_max': 50000.0, 'dense_layer_l1_regularization': 0.01, 'dropout_probability': 0.0}, {'n_models': 8, 'max_epochs': 500, 'patience': 10, 'early_stopping': True, 'validation_split': 0.2, 'random_negative_rate': 0.0, 'random_negative_constant': 20, 'use_embedding': False, 'kmer_size': 15, 'batch_normalization': False, 'locally_connected_layers': [{'filters': 8, 'activation': 'tanh', 'kernel_size': 3}], 'activation': 'relu', 'output_activation': 'sigmoid', 'layer_sizes': [64], 'random_negative_affinity_min': 20000.0, 'random_negative_affinity_max': 50000.0, 'dense_layer_l1_regularization': 0, 'dropout_probability': 0.0}, {'n_models': 8, 'max_epochs': 500, 'patience': 10, 'early_stopping': True, 'validation_split': 0.2, 'random_negative_rate': 0.0, 'random_negative_constant': 20, 'use_embedding': False, 'kmer_size': 15, 'batch_normalization': False, 'locally_connected_layers': [{'filters': 8, 'activation': 'tanh', 'kernel_size': 3}], 'activation': 'relu', 'output_activation': 'sigmoid', 'layer_sizes': [64], 'random_negative_affinity_min': 20000.0, 'random_negative_affinity_max': 50000.0, 'dense_layer_l1_regularization': 0.001, 'dropout_probability': 0.0}, {'n_models': 8, 'max_epochs': 500, 'patience': 10, 'early_stopping': True, 'validation_split': 0.2, 'random_negative_rate': 0.0, 'random_negative_constant': 20, 'use_embedding': False, 'kmer_size': 15, 'batch_normalization': False, 'locally_connected_layers': [{'filters': 8, 'activation': 'tanh', 'kernel_size': 3}], 'activation': 'relu', 'output_activation': 'sigmoid', 'layer_sizes': [64], 'random_negative_affinity_min': 20000.0, 'random_negative_affinity_max': 50000.0, 'dense_layer_l1_regularization': 0.01, 'dropout_probability': 0.0}, {'n_models': 8, 'max_epochs': 500, 'patience': 10, 'early_stopping': True, 'validation_split': 0.2, 'random_negative_rate': 0.0, 'random_negative_constant': 20, 'use_embedding': False, 'kmer_size': 15, 'batch_normalization': False, 'locally_connected_layers': [{'filters': 8, 'activation': 'tanh', 'kernel_size': 3}, {'filters': 8, 'activation': 'tanh', 'kernel_size': 3}], 'activation': 'relu', 'output_activation': 'sigmoid', 'layer_sizes': [16], 'random_negative_affinity_min': 20000.0, 'random_negative_affinity_max': 50000.0, 'dense_layer_l1_regularization': 0, 'dropout_probability': 0.0}, {'n_models': 8, 'max_epochs': 500, 'patience': 10, 'early_stopping': True, 'validation_split': 0.2, 'random_negative_rate': 0.0, 'random_negative_constant': 20, 'use_embedding': False, 'kmer_size': 15, 'batch_normalization': False, 'locally_connected_layers': [{'filters': 8, 'activation': 'tanh', 'kernel_size': 3}, {'filters': 8, 'activation': 'tanh', 'kernel_size': 3}], 'activation': 'relu', 'output_activation': 'sigmoid', 'layer_sizes': [16], 'random_negative_affinity_min': 20000.0, 'random_negative_affinity_max': 50000.0, 'dense_layer_l1_regularization': 0.001, 'dropout_probability': 0.0}, {'n_models': 8, 'max_epochs': 500, 'patience': 10, 'early_stopping': True, 'validation_split': 0.2, 'random_negative_rate': 0.0, 'random_negative_constant': 20, 'use_embedding': False, 'kmer_size': 15, 'batch_normalization': False, 'locally_connected_layers': [{'filters': 8, 'activation': 'tanh', 'kernel_size': 3}, {'filters': 8, 'activation': 'tanh', 'kernel_size': 3}], 'activation': 'relu', 'output_activation': 'sigmoid', 'layer_sizes': [16], 'random_negative_affinity_min': 20000.0, 'random_negative_affinity_max': 50000.0, 'dense_layer_l1_regularization': 0.01, 'dropout_probability': 0.0}, {'n_models': 8, 'max_epochs': 500, 'patience': 10, 'early_stopping': True, 'validation_split': 0.2, 'random_negative_rate': 0.0, 'random_negative_constant': 20, 'use_embedding': False, 'kmer_size': 15, 'batch_normalization': False, 'locally_connected_layers': [{'filters': 8, 'activation': 'tanh', 'kernel_size': 3}, {'filters': 8, 'activation': 'tanh', 'kernel_size': 3}], 'activation': 'relu', 'output_activation': 'sigmoid', 'layer_sizes': [32], 'random_negative_affinity_min': 20000.0, 'random_negative_affinity_max': 50000.0, 'dense_layer_l1_regularization': 0, 'dropout_probability': 0.0}, {'n_models': 8, 'max_epochs': 500, 'patience': 10, 'early_stopping': True, 'validation_split': 0.2, 'random_negative_rate': 0.0, 'random_negative_constant': 20, 'use_embedding': False, 'kmer_size': 15, 'batch_normalization': False, 'locally_connected_layers': [{'filters': 8, 'activation': 'tanh', 'kernel_size': 3}, {'filters': 8, 'activation': 'tanh', 'kernel_size': 3}], 'activation': 'relu', 'output_activation': 'sigmoid', 'layer_sizes': [32], 'random_negative_affinity_min': 20000.0, 'random_negative_affinity_max': 50000.0, 'dense_layer_l1_regularization': 0.001, 'dropout_probability': 0.0}, {'n_models': 8, 'max_epochs': 500, 'patience': 10, 'early_stopping': True, 'validation_split': 0.2, 'random_negative_rate': 0.0, 'random_negative_constant': 20, 'use_embedding': False, 'kmer_size': 15, 'batch_normalization': False, 'locally_connected_layers': [{'filters': 8, 'activation': 'tanh', 'kernel_size': 3}, {'filters': 8, 'activation': 'tanh', 'kernel_size': 3}], 'activation': 'relu', 'output_activation': 'sigmoid', 'layer_sizes': [32], 'random_negative_affinity_min': 20000.0, 'random_negative_affinity_max': 50000.0, 'dense_layer_l1_regularization': 0.01, 'dropout_probability': 0.0}, {'n_models': 8, 'max_epochs': 500, 'patience': 10, 'early_stopping': True, 'validation_split': 0.2, 'random_negative_rate': 0.0, 'random_negative_constant': 20, 'use_embedding': False, 'kmer_size': 15, 'batch_normalization': False, 'locally_connected_layers': [{'filters': 8, 'activation': 'tanh', 'kernel_size': 3}, {'filters': 8, 'activation': 'tanh', 'kernel_size': 3}], 'activation': 'relu', 'output_activation': 'sigmoid', 'layer_sizes': [64], 'random_negative_affinity_min': 20000.0, 'random_negative_affinity_max': 50000.0, 'dense_layer_l1_regularization': 0, 'dropout_probability': 0.0}, {'n_models': 8, 'max_epochs': 500, 'patience': 10, 'early_stopping': True, 'validation_split': 0.2, 'random_negative_rate': 0.0, 'random_negative_constant': 20, 'use_embedding': False, 'kmer_size': 15, 'batch_normalization': False, 'locally_connected_layers': [{'filters': 8, 'activation': 'tanh', 'kernel_size': 3}, {'filters': 8, 'activation': 'tanh', 'kernel_size': 3}], 'activation': 'relu', 'output_activation': 'sigmoid', 'layer_sizes': [64], 'random_negative_affinity_min': 20000.0, 'random_negative_affinity_max': 50000.0, 'dense_layer_l1_regularization': 0.001, 'dropout_probability': 0.0}, {'n_models': 8, 'max_epochs': 500, 'patience': 10, 'early_stopping': True, 'validation_split': 0.2, 'random_negative_rate': 0.0, 'random_negative_constant': 20, 'use_embedding': False, 'kmer_size': 15, 'batch_normalization': False, 'locally_connected_layers': [{'filters': 8, 'activation': 'tanh', 'kernel_size': 3}, {'filters': 8, 'activation': 'tanh', 'kernel_size': 3}], 'activation': 'relu', 'output_activation': 'sigmoid', 'layer_sizes': [64], 'random_negative_affinity_min': 20000.0, 'random_negative_affinity_max': 50000.0, 'dense_layer_l1_regularization': 0.01, 'dropout_probability': 0.0}, {'n_models': 8, 'max_epochs': 500, 'patience': 10, 'early_stopping': True, 'validation_split': 0.2, 'random_negative_rate': 0.0, 'random_negative_constant': 20, 'use_embedding': False, 'kmer_size': 15, 'batch_normalization': False, 'locally_connected_layers': [], 'activation': 'relu', 'output_activation': 'sigmoid', 'layer_sizes': [16], 'random_negative_affinity_min': 20000.0, 'random_negative_affinity_max': 50000.0, 'dense_layer_l1_regularization': 0, 'dropout_probability': 0.0}, {'n_models': 8, 'max_epochs': 500, 'patience': 10, 'early_stopping': True, 'validation_split': 0.2, 'random_negative_rate': 0.0, 'random_negative_constant': 20, 'use_embedding': False, 'kmer_size': 15, 'batch_normalization': False, 'locally_connected_layers': [], 'activation': 'relu', 'output_activation': 'sigmoid', 'layer_sizes': [16], 'random_negative_affinity_min': 20000.0, 'random_negative_affinity_max': 50000.0, 'dense_layer_l1_regularization': 0.001, 'dropout_probability': 0.0}, {'n_models': 8, 'max_epochs': 500, 'patience': 10, 'early_stopping': True, 'validation_split': 0.2, 'random_negative_rate': 0.0, 'random_negative_constant': 20, 'use_embedding': False, 'kmer_size': 15, 'batch_normalization': False, 'locally_connected_layers': [], 'activation': 'relu', 'output_activation': 'sigmoid', 'layer_sizes': [16], 'random_negative_affinity_min': 20000.0, 'random_negative_affinity_max': 50000.0, 'dense_layer_l1_regularization': 0.01, 'dropout_probability': 0.0}, {'n_models': 8, 'max_epochs': 500, 'patience': 10, 'early_stopping': True, 'validation_split': 0.2, 'random_negative_rate': 0.0, 'random_negative_constant': 20, 'use_embedding': False, 'kmer_size': 15, 'batch_normalization': False, 'locally_connected_layers': [], 'activation': 'relu', 'output_activation': 'sigmoid', 'layer_sizes': [32], 'random_negative_affinity_min': 20000.0, 'random_negative_affinity_max': 50000.0, 'dense_layer_l1_regularization': 0, 'dropout_probability': 0.0}, {'n_models': 8, 'max_epochs': 500, 'patience': 10, 'early_stopping': True, 'validation_split': 0.2, 'random_negative_rate': 0.0, 'random_negative_constant': 20, 'use_embedding': False, 'kmer_size': 15, 'batch_normalization': False, 'locally_connected_layers': [], 'activation': 'relu', 'output_activation': 'sigmoid', 'layer_sizes': [32], 'random_negative_affinity_min': 20000.0, 'random_negative_affinity_max': 50000.0, 'dense_layer_l1_regularization': 0.001, 'dropout_probability': 0.0}, {'n_models': 8, 'max_epochs': 500, 'patience': 10, 'early_stopping': True, 'validation_split': 0.2, 'random_negative_rate': 0.0, 'random_negative_constant': 20, 'use_embedding': False, 'kmer_size': 15, 'batch_normalization': False, 'locally_connected_layers': [], 'activation': 'relu', 'output_activation': 'sigmoid', 'layer_sizes': [32], 'random_negative_affinity_min': 20000.0, 'random_negative_affinity_max': 50000.0, 'dense_layer_l1_regularization': 0.01, 'dropout_probability': 0.0}, {'n_models': 8, 'max_epochs': 500, 'patience': 10, 'early_stopping': True, 'validation_split': 0.2, 'random_negative_rate': 0.0, 'random_negative_constant': 20, 'use_embedding': False, 'kmer_size': 15, 'batch_normalization': False, 'locally_connected_layers': [], 'activation': 'relu', 'output_activation': 'sigmoid', 'layer_sizes': [64], 'random_negative_affinity_min': 20000.0, 'random_negative_affinity_max': 50000.0, 'dense_layer_l1_regularization': 0, 'dropout_probability': 0.0}, {'n_models': 8, 'max_epochs': 500, 'patience': 10, 'early_stopping': True, 'validation_split': 0.2, 'random_negative_rate': 0.0, 'random_negative_constant': 20, 'use_embedding': False, 'kmer_size': 15, 'batch_normalization': False, 'locally_connected_layers': [], 'activation': 'relu', 'output_activation': 'sigmoid', 'layer_sizes': [64], 'random_negative_affinity_min': 20000.0, 'random_negative_affinity_max': 50000.0, 'dense_layer_l1_regularization': 0.001, 'dropout_probability': 0.0}, {'n_models': 8, 'max_epochs': 500, 'patience': 10, 'early_stopping': True, 'validation_split': 0.2, 'random_negative_rate': 0.0, 'random_negative_constant': 20, 'use_embedding': False, 'kmer_size': 15, 'batch_normalization': False, 'locally_connected_layers': [], 'activation': 'relu', 'output_activation': 'sigmoid', 'layer_sizes': [64], 'random_negative_affinity_min': 20000.0, 'random_negative_affinity_max': 50000.0, 'dense_layer_l1_regularization': 0.01, 'dropout_probability': 0.0}]\n"
     ]
    }
   ],
   "source": [
    "from json import loads\n",
    "from mhcflurry.hyperparameters import HyperparameterDefaults\n",
    "hyperparameters = open(\"hyperparameters.json\").read()\n",
    "hyperparameters = loads(hyperparameters)\n",
    "combinations_dict = dict(layer_sizes=[ [16], [32], [64]  ],\n",
    "                         dense_layer_l1_regularization=[ 0, .001, 0.01],\n",
    "                         locally_connected_layers=[\n",
    "                            [{'filters': 8, 'activation': 'tanh', 'kernel_size': 3}],\n",
    "                            [{'filters': 8, 'activation': 'tanh', 'kernel_size': 3}, {'filters': 8, 'activation': 'tanh', 'kernel_size': 3}],\n",
    "                            [],\n",
    "                         ],\n",
    "                         random_negative_constant=[0, 20])\n",
    "hyperparameters_obj = HyperparameterDefaults(**hyperparameters[0])\n",
    "\n",
    "print(hyperparameters_obj.models_grid(**combinations_dict))\n"
   ]
  },
  {
   "cell_type": "code",
   "execution_count": null,
   "metadata": {
    "collapsed": true
   },
   "outputs": [],
   "source": []
  }
 ],
 "metadata": {
  "kernelspec": {
   "display_name": "Python 3",
   "language": "python",
   "name": "python3"
  },
  "language_info": {
   "codemirror_mode": {
    "name": "ipython",
    "version": 3
   },
   "file_extension": ".py",
   "mimetype": "text/x-python",
   "name": "python",
   "nbconvert_exporter": "python",
   "pygments_lexer": "ipython3",
   "version": "3.6.0"
  }
 },
 "nbformat": 4,
 "nbformat_minor": 2
}
